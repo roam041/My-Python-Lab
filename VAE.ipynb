{
 "cells": [
  {
   "cell_type": "markdown",
   "metadata": {},
   "source": [
    "# Variational Autoencoder"
   ]
  },
  {
   "cell_type": "markdown",
   "metadata": {},
   "source": [
    "## Prerequirements"
   ]
  },
  {
   "cell_type": "code",
   "execution_count": 1,
   "metadata": {},
   "outputs": [
    {
     "name": "stdout",
     "output_type": "stream",
     "text": [
      "env: KERAS_BACKEND=tensorflow\n"
     ]
    }
   ],
   "source": [
    "%env KERAS_BACKEND=tensorflow"
   ]
  },
  {
   "cell_type": "code",
   "execution_count": 2,
   "metadata": {},
   "outputs": [
    {
     "name": "stderr",
     "output_type": "stream",
     "text": [
      "Using TensorFlow backend.\n"
     ]
    }
   ],
   "source": [
    "%matplotlib inline\n",
    "import numpy as np\n",
    "import matplotlib.pyplot as plt\n",
    "from ipywidgets import interact, FloatSlider\n",
    "\n",
    "# Keras functions\n",
    "from keras.models import Sequential, Model\n",
    "from keras.layers import Input, Lambda, concatenate\n",
    "from keras.layers import Dense\n",
    "from keras.layers import Conv2D, MaxPooling2D\n",
    "from keras.layers import Conv2DTranspose, UpSampling2D\n",
    "from keras.optimizers import SGD, Adam\n",
    "from keras import metrics\n",
    "\n",
    "# Keras dataset\n",
    "from keras.datasets import mnist\n",
    "\n",
    "# Keras utilis function\n",
    "from keras.utils import np_utils\n",
    "\n",
    "from keras import backend as K"
   ]
  },
  {
   "cell_type": "markdown",
   "metadata": {},
   "source": [
    "## Load MNIST Datasets"
   ]
  },
  {
   "cell_type": "code",
   "execution_count": 3,
   "metadata": {},
   "outputs": [],
   "source": [
    "(x_train0, y_train0), (x_test0, y_test0) = mnist.load_data()"
   ]
  },
  {
   "cell_type": "markdown",
   "metadata": {},
   "source": [
    "Reshape and normalize the data."
   ]
  },
  {
   "cell_type": "code",
   "execution_count": 4,
   "metadata": {},
   "outputs": [],
   "source": [
    "x_train = x_train0.reshape(60000, -1)\n",
    "x_test = x_test0.reshape(10000, -1)\n",
    "\n",
    "x_train -= x_train.min()\n",
    "x_train = x_train/x_train.max()"
   ]
  },
  {
   "cell_type": "markdown",
   "metadata": {},
   "source": [
    "## Build VAE"
   ]
  },
  {
   "cell_type": "markdown",
   "metadata": {},
   "source": [
    "Define the Encoder and Decoder."
   ]
  },
  {
   "cell_type": "code",
   "execution_count": 5,
   "metadata": {},
   "outputs": [],
   "source": [
    "enc_1 = Dense(100, activation='sigmoid')\n",
    "# enc_2 = Dense(2, activation='sigmoid')\n",
    "\n",
    "enc_mean = Dense(2)\n",
    "enc_log_var = Dense(2)\n",
    "\n",
    "dec_2 = Dense(100, activation='sigmoid')\n",
    "dec_1 = Dense(784, activation='sigmoid')"
   ]
  },
  {
   "cell_type": "code",
   "execution_count": 6,
   "metadata": {},
   "outputs": [],
   "source": [
    "x = Input(shape=(784,))\n",
    "enc_x = enc_1(x)\n",
    "\n",
    "z_mean = enc_mean(enc_x)\n",
    "z_log_var = enc_log_var(enc_x)"
   ]
  },
  {
   "cell_type": "markdown",
   "metadata": {},
   "source": [
    "Define the sampling function."
   ]
  },
  {
   "cell_type": "code",
   "execution_count": 7,
   "metadata": {},
   "outputs": [],
   "source": [
    "def sampling(args):\n",
    "    z_mean, z_log_var = args\n",
    "    epsilon = K.random_normal(shape=(2,), mean=0., stddev=1)\n",
    "    return z_mean + K.exp(z_log_var / 2) * epsilon"
   ]
  },
  {
   "cell_type": "code",
   "execution_count": 8,
   "metadata": {},
   "outputs": [],
   "source": [
    "z = Lambda(sampling, output_shape=(2,))([z_mean, z_log_var])"
   ]
  },
  {
   "cell_type": "code",
   "execution_count": 9,
   "metadata": {},
   "outputs": [],
   "source": [
    "dec_x = dec_2(z)\n",
    "x_hat = dec_1(dec_x)"
   ]
  },
  {
   "cell_type": "code",
   "execution_count": 10,
   "metadata": {},
   "outputs": [
    {
     "name": "stdout",
     "output_type": "stream",
     "text": [
      "__________________________________________________________________________________________________\n",
      "Layer (type)                    Output Shape         Param #     Connected to                     \n",
      "==================================================================================================\n",
      "input_1 (InputLayer)            (None, 784)          0                                            \n",
      "__________________________________________________________________________________________________\n",
      "dense_1 (Dense)                 (None, 100)          78500       input_1[0][0]                    \n",
      "__________________________________________________________________________________________________\n",
      "dense_2 (Dense)                 (None, 2)            202         dense_1[0][0]                    \n",
      "__________________________________________________________________________________________________\n",
      "dense_3 (Dense)                 (None, 2)            202         dense_1[0][0]                    \n",
      "__________________________________________________________________________________________________\n",
      "lambda_1 (Lambda)               (None, 2)            0           dense_2[0][0]                    \n",
      "                                                                 dense_3[0][0]                    \n",
      "__________________________________________________________________________________________________\n",
      "dense_4 (Dense)                 (None, 100)          300         lambda_1[0][0]                   \n",
      "__________________________________________________________________________________________________\n",
      "dense_5 (Dense)                 (None, 784)          79184       dense_4[0][0]                    \n",
      "==================================================================================================\n",
      "Total params: 158,388\n",
      "Trainable params: 158,388\n",
      "Non-trainable params: 0\n",
      "__________________________________________________________________________________________________\n"
     ]
    }
   ],
   "source": [
    "VAE = Model(x, x_hat)\n",
    "VAE.summary()"
   ]
  },
  {
   "cell_type": "markdown",
   "metadata": {},
   "source": [
    "Arbitrary loss function."
   ]
  },
  {
   "cell_type": "code",
   "execution_count": 11,
   "metadata": {},
   "outputs": [],
   "source": [
    "def vae_loss(x, x_recon):  \n",
    "    recovery_loss = 784 * metrics.binary_crossentropy(x, x_recon)\n",
    "    kl_loss = - 0.5 * K.sum(1 + z_log_var - K.square(z_mean) - K.exp(z_log_var), axis=-1)\n",
    "    return recovery_loss + kl_loss"
   ]
  },
  {
   "cell_type": "markdown",
   "metadata": {},
   "source": [
    "Compile VAE."
   ]
  },
  {
   "cell_type": "code",
   "execution_count": 12,
   "metadata": {},
   "outputs": [],
   "source": [
    "VAE.compile(loss=vae_loss, optimizer=Adam())"
   ]
  },
  {
   "cell_type": "markdown",
   "metadata": {},
   "source": [
    "Load the weights of file `VAE_handwriting_model_weights.h5`."
   ]
  },
  {
   "cell_type": "code",
   "execution_count": 13,
   "metadata": {},
   "outputs": [],
   "source": [
    "VAE.load_weights('NCTS_model/VAE_handwriting_model_weights.h5')"
   ]
  },
  {
   "cell_type": "markdown",
   "metadata": {},
   "source": [
    "## VAE Encoder"
   ]
  },
  {
   "cell_type": "code",
   "execution_count": 14,
   "metadata": {},
   "outputs": [
    {
     "name": "stdout",
     "output_type": "stream",
     "text": [
      "_________________________________________________________________\n",
      "Layer (type)                 Output Shape              Param #   \n",
      "=================================================================\n",
      "input_1 (InputLayer)         (None, 784)               0         \n",
      "_________________________________________________________________\n",
      "dense_1 (Dense)              (None, 100)               78500     \n",
      "_________________________________________________________________\n",
      "dense_2 (Dense)              (None, 2)                 202       \n",
      "=================================================================\n",
      "Total params: 78,702\n",
      "Trainable params: 78,702\n",
      "Non-trainable params: 0\n",
      "_________________________________________________________________\n"
     ]
    }
   ],
   "source": [
    "VAE_Encoder = Model(x, z_mean)\n",
    "VAE_Encoder.summary()"
   ]
  },
  {
   "cell_type": "markdown",
   "metadata": {},
   "source": [
    "## VAE Decoder"
   ]
  },
  {
   "cell_type": "code",
   "execution_count": 15,
   "metadata": {},
   "outputs": [
    {
     "name": "stdout",
     "output_type": "stream",
     "text": [
      "_________________________________________________________________\n",
      "Layer (type)                 Output Shape              Param #   \n",
      "=================================================================\n",
      "input_2 (InputLayer)         (None, 2)                 0         \n",
      "_________________________________________________________________\n",
      "dense_4 (Dense)              (None, 100)               300       \n",
      "_________________________________________________________________\n",
      "dense_5 (Dense)              (None, 784)               79184     \n",
      "=================================================================\n",
      "Total params: 79,484\n",
      "Trainable params: 79,484\n",
      "Non-trainable params: 0\n",
      "_________________________________________________________________\n"
     ]
    }
   ],
   "source": [
    "h_input = Input(shape=(2,))\n",
    "VAE_Decoder = Model(h_input, dec_1(dec_2(h_input)))\n",
    "VAE_Decoder.summary()"
   ]
  },
  {
   "cell_type": "code",
   "execution_count": 16,
   "metadata": {},
   "outputs": [
    {
     "name": "stdout",
     "output_type": "stream",
     "text": [
      "第 10317 圖的 latent 表示為 [[-0.35468933 -1.3876125 ]]\n"
     ]
    }
   ],
   "source": [
    "idx = np.random.randint(x_train.shape[0])\n",
    "print(\"第 %d 圖的 latent 表示為 %s\" %(idx, VAE_Encoder.predict(x_train[idx: idx+1])))"
   ]
  },
  {
   "cell_type": "markdown",
   "metadata": {},
   "source": [
    "## Visualize VAE Encoder"
   ]
  },
  {
   "cell_type": "code",
   "execution_count": 17,
   "metadata": {},
   "outputs": [],
   "source": [
    "def Pick(nums):\n",
    "    num1 = int(nums_list[0])\n",
    "    num2 = int(nums_list[1])\n",
    "    subset1 = np.where(y_train0 == num1)\n",
    "    ind1 = np.random.choice(subset1[0]) \n",
    "    subset2 = np.where(y_train0 == num2)\n",
    "    ind2 = np.random.choice(subset2[0]) \n",
    "    ind = [ind1,ind2]\n",
    "    return (ind)"
   ]
  },
  {
   "cell_type": "code",
   "execution_count": 19,
   "metadata": {},
   "outputs": [],
   "source": [
    "def Visualize(w):\n",
    "    idx = index\n",
    "    ind1 = idx[0]\n",
    "    ind2 = idx[1]\n",
    "    plot_1 = x_train0[ind1]  # x_train0.shape = (28,28)\n",
    "    plot_2 = x_train0[ind2]\n",
    "    plot_w = (1-w)*x_train0[ind1] + w*x_train0[ind2]\n",
    "\n",
    "    mu_1 = VAE_Encoder.predict(x_train[ind1:ind1+1]).squeeze()\n",
    "    mu_2 = VAE_Encoder.predict(x_train[ind2:ind2+1]).squeeze()\n",
    "    mu_w = (1-w)*mu_1 + w*mu_2\n",
    "\n",
    "    plt.figure(figsize=(6, 8))\n",
    "    ax1 = plt.subplot(2,1,1)\n",
    "    ax1.set_title('Visualization of VAE Encoder')\n",
    "    ax1.set_xlim([-4, 4])\n",
    "    ax1.set_ylim([-4, 4])\n",
    "     \n",
    "    # Add a line\n",
    "    delta_y = mu_2[1] - mu_1[1]\n",
    "    delta_x = mu_2[0] - mu_1[0]\n",
    "    slope = delta_y/delta_x\n",
    "    x = np.linspace(mu_1[0],mu_2[0],50)\n",
    "    b = mu_1[1] - slope*mu_1[0]\n",
    "    y = b + slope*x\n",
    "    ax1.plot(x,y, color='black')\n",
    "    \n",
    "    ax1.scatter(mu_1[0], mu_1[1], color='red')\n",
    "    ax1.scatter(mu_2[0], mu_2[1], color='blue')\n",
    "    ax1.scatter(mu_w[0], mu_w[1], color='purple')\n",
    "\n",
    "    ax2 = plt.subplot(2, 3, 4)\n",
    "    ax2.imshow(plot_2, cmap='Greys')\n",
    "    ax2.set_title('Blue dot')\n",
    "    \n",
    "    ax3 = plt.subplot(2, 3, 5)\n",
    "    ax3.imshow(plot_w, cmap='Greys')\n",
    "    ax3.set_title('Purple dot')\n",
    "\n",
    "    ax4 = plt.subplot(2, 3, 6)\n",
    "    ax4.imshow(plot_1, cmap='Greys')\n",
    "    ax4.set_title('Red dot');"
   ]
  },
  {
   "cell_type": "code",
   "execution_count": 32,
   "metadata": {},
   "outputs": [
    {
     "name": "stdout",
     "output_type": "stream",
     "text": [
      "Enter two numbers (from 0 to 9): 5 7\n",
      "w: weight\n"
     ]
    },
    {
     "data": {
      "application/vnd.jupyter.widget-view+json": {
       "model_id": "342abfbcbf4c4518a202f4994280419f",
       "version_major": 2,
       "version_minor": 0
      },
      "text/plain": [
       "interactive(children=(FloatSlider(value=0.5, description='w', max=1.0, step=0.05), Output()), _dom_classes=('w…"
      ]
     },
     "metadata": {},
     "output_type": "display_data"
    }
   ],
   "source": [
    "x, y = input(\"Enter two numbers (from 0 to 9): \").split() \n",
    "nums_list = [x,y]\n",
    "index = Pick(nums_list)\n",
    "print(\"w: weight\")\n",
    "interact(Visualize, w=FloatSlider(value=0.5, min=0, max=1.0, step=0.05));"
   ]
  },
  {
   "cell_type": "code",
   "execution_count": null,
   "metadata": {},
   "outputs": [],
   "source": [
    "\n",
    "\n",
    "\n",
    "\n",
    "\n",
    "\n",
    "\n",
    "\n"
   ]
  }
 ],
 "metadata": {
  "kernelspec": {
   "display_name": "Python 3",
   "language": "python",
   "name": "python3"
  },
  "language_info": {
   "codemirror_mode": {
    "name": "ipython",
    "version": 3
   },
   "file_extension": ".py",
   "mimetype": "text/x-python",
   "name": "python",
   "nbconvert_exporter": "python",
   "pygments_lexer": "ipython3",
   "version": "3.6.5"
  },
  "toc": {
   "base_numbering": 1,
   "nav_menu": {},
   "number_sections": true,
   "sideBar": true,
   "skip_h1_title": false,
   "title_cell": "Table of Contents",
   "title_sidebar": "Contents",
   "toc_cell": false,
   "toc_position": {},
   "toc_section_display": true,
   "toc_window_display": false
  },
  "varInspector": {
   "cols": {
    "lenName": 16,
    "lenType": 16,
    "lenVar": 40
   },
   "kernels_config": {
    "python": {
     "delete_cmd_postfix": "",
     "delete_cmd_prefix": "del ",
     "library": "var_list.py",
     "varRefreshCmd": "print(var_dic_list())"
    },
    "r": {
     "delete_cmd_postfix": ") ",
     "delete_cmd_prefix": "rm(",
     "library": "var_list.r",
     "varRefreshCmd": "cat(var_dic_list()) "
    }
   },
   "types_to_exclude": [
    "module",
    "function",
    "builtin_function_or_method",
    "instance",
    "_Feature"
   ],
   "window_display": false
  }
 },
 "nbformat": 4,
 "nbformat_minor": 2
}
