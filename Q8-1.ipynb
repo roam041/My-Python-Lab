{
 "cells": [
  {
   "cell_type": "code",
   "execution_count": 1,
   "metadata": {},
   "outputs": [
    {
     "name": "stdout",
     "output_type": "stream",
     "text": [
      "env: KERAS_BACKEND=tensorflow\n"
     ]
    }
   ],
   "source": [
    "%env KERAS_BACKEND=tensorflow"
   ]
  },
  {
   "cell_type": "code",
   "execution_count": 2,
   "metadata": {},
   "outputs": [],
   "source": [
    "%matplotlib inline\n",
    "import numpy as np\n",
    "import matplotlib.pyplot as plt\n",
    "\n",
    "from ipywidgets import interact"
   ]
  },
  {
   "cell_type": "markdown",
   "metadata": {},
   "source": [
    "## Required functions"
   ]
  },
  {
   "cell_type": "code",
   "execution_count": 4,
   "metadata": {},
   "outputs": [],
   "source": [
    "# NN-related\n",
    "from keras.models import Sequential\n",
    "from keras.layers.core import Dense, Activation\n",
    "from keras.optimizers import SGD, Adam, Adagrad, Adadelta\n",
    "\n",
    "# Data set\n",
    "from keras.datasets import mnist\n",
    "\n",
    "# 1-hot encoding\n",
    "from keras.utils import np_utils"
   ]
  },
  {
   "cell_type": "markdown",
   "metadata": {},
   "source": [
    "## Data preprocessing"
   ]
  },
  {
   "cell_type": "markdown",
   "metadata": {},
   "source": [
    "### Load MNIST dataset"
   ]
  },
  {
   "cell_type": "code",
   "execution_count": 6,
   "metadata": {},
   "outputs": [],
   "source": [
    "(x_train0, y_train0), (x_test0, y_test0) = mnist.load_data()"
   ]
  },
  {
   "cell_type": "markdown",
   "metadata": {},
   "source": [
    "### Reshape the data"
   ]
  },
  {
   "cell_type": "code",
   "execution_count": 7,
   "metadata": {},
   "outputs": [],
   "source": [
    "x_train = x_train0.reshape(60000, -1)\n",
    "x_test = x_test0.reshape(10000, -1)"
   ]
  },
  {
   "cell_type": "markdown",
   "metadata": {},
   "source": [
    "### Standardization"
   ]
  },
  {
   "cell_type": "code",
   "execution_count": 8,
   "metadata": {},
   "outputs": [],
   "source": [
    "x_train -= x_train.min()\n",
    "x_train = x_train/x_train.max()\n",
    "x_test -= x_test.min()\n",
    "x_test = x_test/x_test.max()"
   ]
  },
  {
   "cell_type": "markdown",
   "metadata": {},
   "source": [
    "Check whether `x_train` and `x_test` are centering and whitening."
   ]
  },
  {
   "cell_type": "code",
   "execution_count": 10,
   "metadata": {},
   "outputs": [
    {
     "data": {
      "text/plain": [
       "(0.0, 1.0)"
      ]
     },
     "execution_count": 10,
     "metadata": {},
     "output_type": "execute_result"
    }
   ],
   "source": [
    "x_train.min(), x_train.max()"
   ]
  },
  {
   "cell_type": "code",
   "execution_count": 11,
   "metadata": {},
   "outputs": [
    {
     "data": {
      "text/plain": [
       "(0.0, 1.0)"
      ]
     },
     "execution_count": 11,
     "metadata": {},
     "output_type": "execute_result"
    }
   ],
   "source": [
    "x_test.min(), x_test.max()"
   ]
  },
  {
   "cell_type": "markdown",
   "metadata": {},
   "source": [
    "### 1-hot encoding"
   ]
  },
  {
   "cell_type": "code",
   "execution_count": 12,
   "metadata": {},
   "outputs": [],
   "source": [
    "y_train = np_utils.to_categorical(y_train0, 10)\n",
    "y_test = np_utils.to_categorical(y_test0, 10)"
   ]
  },
  {
   "cell_type": "markdown",
   "metadata": {},
   "source": [
    "Take a look at `y_train` and `y_test` after conducting 1-hot encoding."
   ]
  },
  {
   "cell_type": "code",
   "execution_count": 13,
   "metadata": {},
   "outputs": [
    {
     "data": {
      "text/plain": [
       "array([0., 0., 1., 0., 0., 0., 0., 0., 0., 0.], dtype=float32)"
      ]
     },
     "execution_count": 13,
     "metadata": {},
     "output_type": "execute_result"
    }
   ],
   "source": [
    "y_train[5]"
   ]
  },
  {
   "cell_type": "code",
   "execution_count": 14,
   "metadata": {},
   "outputs": [
    {
     "data": {
      "text/plain": [
       "array([0., 0., 0., 0., 0., 0., 0., 1., 0., 0.], dtype=float32)"
      ]
     },
     "execution_count": 14,
     "metadata": {},
     "output_type": "execute_result"
    }
   ],
   "source": [
    "y_test[79]"
   ]
  },
  {
   "cell_type": "markdown",
   "metadata": {},
   "source": [
    "## Building NN"
   ]
  },
  {
   "cell_type": "markdown",
   "metadata": {},
   "source": [
    "The structure of our artificial neural networks.  \n",
    "\n",
    "![](image/NN_API.png)"
   ]
  },
  {
   "cell_type": "markdown",
   "metadata": {},
   "source": [
    "The definition of the variables.  \n",
    "* $x$: the dimension of the input image, which is 784.\n",
    "* $h_1$: the result after computing by the hidden layer $f_1$, $h_1=f_1(x)$. Dim($h_1$)=200.\n",
    "* $h_2$: the result after computing by the hidden layer $f_2$, $h_2=f_2(h1)$. Dim($h_2$)=50.\n",
    "* $h_3$: the result after computing by the hidden layer $f_3$, $h_3=f_3(h1)$. Dim($h_3$)=50.\n",
    "* $h_4$: the result after computing by the hidden layer $f_4$, $h_4=f_4(h2)$. Dim($h_3$)=20.\n",
    "* $h_5$: the result after computing by the hidden layer $f_5$, $h_5=f_5(h3)$. Dim($h_3$)=20.\n",
    "* $y$: the result after computing by the hidden layer $f_6$, $y=f_6(h_4,h_5)$, which represents the probabilities that x may be. Dim($y$)=10."
   ]
  },
  {
   "cell_type": "code",
   "execution_count": 15,
   "metadata": {},
   "outputs": [],
   "source": [
    "# Functional API\n",
    "from keras.models import Model\n",
    "from keras.layers import Input"
   ]
  },
  {
   "cell_type": "markdown",
   "metadata": {},
   "source": [
    "### Define `f1`, `f2` and `f3`"
   ]
  },
  {
   "cell_type": "code",
   "execution_count": 80,
   "metadata": {},
   "outputs": [],
   "source": [
    "f1 = Dense(200, activation='selu')    # 784 to 100  \n",
    "f2 = Dense(50, activation='relu')     # 100 to 50\n",
    "f3 = Dense(50, activation='relu')     # 100 to 50\n",
    "f4 = Dense(20, activation='linear')   #  50 to 20\n",
    "f5 = Dense(20, activation='linear')   #  50 to 20\n",
    "f6 = Dense(10, activation='softmax')  #  40 to 10"
   ]
  },
  {
   "cell_type": "markdown",
   "metadata": {},
   "source": [
    "### Define the variables"
   ]
  },
  {
   "cell_type": "code",
   "execution_count": 81,
   "metadata": {},
   "outputs": [],
   "source": [
    "x = Input(shape = (784,))\n",
    "h1 = f1(x)\n",
    "h2 = f2(h1)\n",
    "h3 = f3(h1)\n",
    "h4 = f4(h2)\n",
    "h5 = f5(h3)"
   ]
  },
  {
   "cell_type": "code",
   "execution_count": 65,
   "metadata": {},
   "outputs": [],
   "source": [
    "from keras.layers import concatenate"
   ]
  },
  {
   "cell_type": "code",
   "execution_count": 82,
   "metadata": {},
   "outputs": [],
   "source": [
    "u = concatenate([h4,h5]) \n",
    "y = f6(u)"
   ]
  },
  {
   "cell_type": "markdown",
   "metadata": {},
   "source": [
    "### Take a look at the NN"
   ]
  },
  {
   "cell_type": "code",
   "execution_count": 83,
   "metadata": {},
   "outputs": [
    {
     "name": "stdout",
     "output_type": "stream",
     "text": [
      "__________________________________________________________________________________________________\n",
      "Layer (type)                    Output Shape         Param #     Connected to                     \n",
      "==================================================================================================\n",
      "input_8 (InputLayer)            (None, 784)          0                                            \n",
      "__________________________________________________________________________________________________\n",
      "dense_39 (Dense)                (None, 200)          157000      input_8[0][0]                    \n",
      "__________________________________________________________________________________________________\n",
      "dense_40 (Dense)                (None, 50)           10050       dense_39[0][0]                   \n",
      "__________________________________________________________________________________________________\n",
      "dense_41 (Dense)                (None, 50)           10050       dense_39[0][0]                   \n",
      "__________________________________________________________________________________________________\n",
      "dense_42 (Dense)                (None, 20)           1020        dense_40[0][0]                   \n",
      "__________________________________________________________________________________________________\n",
      "dense_43 (Dense)                (None, 20)           1020        dense_41[0][0]                   \n",
      "__________________________________________________________________________________________________\n",
      "concatenate_7 (Concatenate)     (None, 40)           0           dense_42[0][0]                   \n",
      "                                                                 dense_43[0][0]                   \n",
      "__________________________________________________________________________________________________\n",
      "dense_44 (Dense)                (None, 10)           410         concatenate_7[0][0]              \n",
      "==================================================================================================\n",
      "Total params: 179,550\n",
      "Trainable params: 179,550\n",
      "Non-trainable params: 0\n",
      "__________________________________________________________________________________________________\n"
     ]
    }
   ],
   "source": [
    "model = Model(x, y)\n",
    "model.summary() "
   ]
  },
  {
   "cell_type": "code",
   "execution_count": 84,
   "metadata": {},
   "outputs": [],
   "source": [
    "model.compile(loss='mse', optimizer=Adadelta(lr=1), metrics=['accuracy'])"
   ]
  },
  {
   "cell_type": "markdown",
   "metadata": {},
   "source": [
    "### Evaluate the NN"
   ]
  },
  {
   "cell_type": "code",
   "execution_count": 85,
   "metadata": {},
   "outputs": [
    {
     "name": "stdout",
     "output_type": "stream",
     "text": [
      "60000/60000 [==============================] - 1s 14us/step \n",
      "Loss: 0.092948\n",
      "Accuaracy: 0.079583\n"
     ]
    }
   ],
   "source": [
    "score = model.evaluate(x_train, y_train, batch_size=10000)\n",
    "print(\"Loss: %f\" %score[0])\n",
    "print(\"Accuaracy: %f\" %score[1])"
   ]
  },
  {
   "cell_type": "markdown",
   "metadata": {},
   "source": [
    "## Training NN"
   ]
  },
  {
   "cell_type": "code",
   "execution_count": 86,
   "metadata": {},
   "outputs": [
    {
     "name": "stdout",
     "output_type": "stream",
     "text": [
      "Epoch 1/20\n",
      "60000/60000 [==============================] - 6s 92us/step - loss: 0.0190 - acc: 0.8746\n",
      "Epoch 2/20\n",
      "60000/60000 [==============================] - 5s 84us/step - loss: 0.0097 - acc: 0.9386\n",
      "Epoch 3/20\n",
      "60000/60000 [==============================] - 5s 84us/step - loss: 0.0077 - acc: 0.9519\n",
      "Epoch 4/20\n",
      "60000/60000 [==============================] - 5s 83us/step - loss: 0.0064 - acc: 0.9602\n",
      "Epoch 5/20\n",
      "60000/60000 [==============================] - 5s 83us/step - loss: 0.0055 - acc: 0.9655\n",
      "Epoch 6/20\n",
      "60000/60000 [==============================] - 5s 83us/step - loss: 0.0048 - acc: 0.9702\n",
      "Epoch 7/20\n",
      "60000/60000 [==============================] - 5s 83us/step - loss: 0.0043 - acc: 0.9738\n",
      "Epoch 8/20\n",
      "60000/60000 [==============================] - 5s 78us/step - loss: 0.0039 - acc: 0.9764\n",
      "Epoch 9/20\n",
      "60000/60000 [==============================] - 5s 77us/step - loss: 0.0036 - acc: 0.9788\n",
      "Epoch 10/20\n",
      "60000/60000 [==============================] - 5s 77us/step - loss: 0.0033 - acc: 0.9804\n",
      "Epoch 11/20\n",
      "60000/60000 [==============================] - 5s 77us/step - loss: 0.0030 - acc: 0.9822\n",
      "Epoch 12/20\n",
      "60000/60000 [==============================] - 5s 77us/step - loss: 0.0028 - acc: 0.9839\n",
      "Epoch 13/20\n",
      "60000/60000 [==============================] - 5s 77us/step - loss: 0.0026 - acc: 0.9855\n",
      "Epoch 14/20\n",
      "60000/60000 [==============================] - 5s 78us/step - loss: 0.0024 - acc: 0.9867\n",
      "Epoch 15/20\n",
      "60000/60000 [==============================] - 5s 77us/step - loss: 0.0022 - acc: 0.9873\n",
      "Epoch 16/20\n",
      "60000/60000 [==============================] - 5s 77us/step - loss: 0.0021 - acc: 0.9886\n",
      "Epoch 17/20\n",
      "60000/60000 [==============================] - 5s 77us/step - loss: 0.0019 - acc: 0.9893\n",
      "Epoch 18/20\n",
      "60000/60000 [==============================] - 5s 79us/step - loss: 0.0018 - acc: 0.9901\n",
      "Epoch 19/20\n",
      "60000/60000 [==============================] - 5s 80us/step - loss: 0.0017 - acc: 0.9910\n",
      "Epoch 20/20\n",
      "60000/60000 [==============================] - 5s 78us/step - loss: 0.0016 - acc: 0.9917\n"
     ]
    }
   ],
   "source": [
    "model_fitted = model.fit(x_train, y_train, batch_size=100, verbose = 1, epochs=20) "
   ]
  },
  {
   "cell_type": "markdown",
   "metadata": {},
   "source": [
    "### Training accuracy for each apoch"
   ]
  },
  {
   "cell_type": "code",
   "execution_count": 87,
   "metadata": {},
   "outputs": [
    {
     "data": {
      "image/png": "[encoded data removed]",
      "text/plain": [
       "<Figure size 432x288 with 1 Axes>"
      ]
     },
     "metadata": {},
     "output_type": "display_data"
    }
   ],
   "source": [
    "plt.plot(model_fitted.history[\"acc\"])\n",
    "plt.title(\"Model Training Accuracy\")\n",
    "plt.ylabel(\"accuracy\")\n",
    "plt.xlabel(\"epoch\")\n",
    "plt.show()"
   ]
  },
  {
   "cell_type": "code",
   "execution_count": null,
   "metadata": {},
   "outputs": [],
   "source": []
  }
 ],
 "metadata": {
  "kernelspec": {
   "display_name": "Python 3",
   "language": "python",
   "name": "python3"
  },
  "language_info": {
   "codemirror_mode": {
    "name": "ipython",
    "version": 3
   },
   "file_extension": ".py",
   "mimetype": "text/x-python",
   "name": "python",
   "nbconvert_exporter": "python",
   "pygments_lexer": "ipython3",
   "version": "3.6.5"
  },
  "toc": {
   "base_numbering": 1,
   "nav_menu": {},
   "number_sections": true,
   "sideBar": true,
   "skip_h1_title": false,
   "title_cell": "Table of Contents",
   "title_sidebar": "Contents",
   "toc_cell": false,
   "toc_position": {},
   "toc_section_display": true,
   "toc_window_display": false
  },
  "varInspector": {
   "cols": {
    "lenName": 16,
    "lenType": 16,
    "lenVar": 40
   },
   "kernels_config": {
    "python": {
     "delete_cmd_postfix": "",
     "delete_cmd_prefix": "del ",
     "library": "var_list.py",
     "varRefreshCmd": "print(var_dic_list())"
    },
    "r": {
     "delete_cmd_postfix": ") ",
     "delete_cmd_prefix": "rm(",
     "library": "var_list.r",
     "varRefreshCmd": "cat(var_dic_list()) "
    }
   },
   "types_to_exclude": [
    "module",
    "function",
    "builtin_function_or_method",
    "instance",
    "_Feature"
   ],
   "window_display": false
  }
 },
 "nbformat": 4,
 "nbformat_minor": 2
}
