{
 "cells": [
  {
   "cell_type": "markdown",
   "metadata": {},
   "source": [
    "## 題目 圖型辨識: 是否為動物"
   ]
  },
  {
   "cell_type": "markdown",
   "metadata": {},
   "source": [
    "目標：利用CNN做圖型辨識\n",
    "\n",
    "- 資料來源：CIFAR-10 (Canadian Institute For Advanced Research) dataset\n",
    "- 資料內容：\n",
    "    * 該資料集內含 10 類動物(鳥、貓、狗、青蛙…等)及非動物的圖像(共60000張，每張32X32)\n",
    "    * 其中50000張為training images, 10000張為test images\n",
    "- 目標1：\n",
    "    * 輸入：32X32圖片；輸出：是否為動物(二元變量)\n",
    "- 目標2：\n",
    "    * 輸入：32X32圖片；輸出：是哪種動物\n",
    "- 資料集大致長相：\n",
    "![]("
   ]
  }
 ],
 "metadata": {
  "kernelspec": {
   "display_name": "Python 3",
   "language": "python",
   "name": "python3"
  },
  "language_info": {
   "codemirror_mode": {
    "name": "ipython",
    "version": 3
   },
   "file_extension": ".py",
   "mimetype": "text/x-python",
   "name": "python",
   "nbconvert_exporter": "python",
   "pygments_lexer": "ipython3",
   "version": "3.6.5"
  },
  "toc": {
   "base_numbering": 1,
   "nav_menu": {},
   "number_sections": true,
   "sideBar": true,
   "skip_h1_title": false,
   "title_cell": "Table of Contents",
   "title_sidebar": "Contents",
   "toc_cell": false,
   "toc_position": {},
   "toc_section_display": true,
   "toc_window_display": false
  },
  "varInspector": {
   "cols": {
    "lenName": 16,
    "lenType": 16,
    "lenVar": 40
   },
   "kernels_config": {
    "python": {
     "delete_cmd_postfix": "",
     "delete_cmd_prefix": "del ",
     "library": "var_list.py",
     "varRefreshCmd": "print(var_dic_list())"
    },
    "r": {
     "delete_cmd_postfix": ") ",
     "delete_cmd_prefix": "rm(",
     "library": "var_list.r",
     "varRefreshCmd": "cat(var_dic_list()) "
    }
   },
   "types_to_exclude": [
    "module",
    "function",
    "builtin_function_or_method",
    "instance",
    "_Feature"
   ],
   "window_display": false
  }
 },
 "nbformat": 4,
 "nbformat_minor": 2
}
