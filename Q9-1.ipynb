{
 "cells": [
  {
   "cell_type": "code",
   "execution_count": 1,
   "metadata": {},
   "outputs": [
    {
     "name": "stdout",
     "output_type": "stream",
     "text": [
      "env: KERAS_BACKEND=tensorflow\n"
     ]
    }
   ],
   "source": [
    "%env KERAS_BACKEND=tensorflow"
   ]
  },
  {
   "cell_type": "code",
   "execution_count": 2,
   "metadata": {},
   "outputs": [],
   "source": [
    "%matplotlib inline\n",
    "import numpy as np\n",
    "import matplotlib.pyplot as plt"
   ]
  },
  {
   "cell_type": "markdown",
   "metadata": {},
   "source": [
    "## Load MNIST Dataset"
   ]
  },
  {
   "cell_type": "code",
   "execution_count": 4,
   "metadata": {},
   "outputs": [],
   "source": [
    "from keras.datasets import mnist "
   ]
  },
  {
   "cell_type": "code",
   "execution_count": 94,
   "metadata": {},
   "outputs": [],
   "source": [
    "(x_train, y_train), (x_test, y_test) = mnist.load_data()"
   ]
  },
  {
   "cell_type": "markdown",
   "metadata": {},
   "source": [
    "## Adjust the dimension"
   ]
  },
  {
   "cell_type": "code",
   "execution_count": 95,
   "metadata": {},
   "outputs": [],
   "source": [
    "x_train = x_train.reshape(60000,28,28,1)\n",
    "x_test = x_test.reshape(10000,28,28,1)"
   ]
  },
  {
   "cell_type": "code",
   "execution_count": 96,
   "metadata": {},
   "outputs": [],
   "source": [
    "x_train = x_train/255\n",
    "x_test = x_test/255"
   ]
  },
  {
   "cell_type": "code",
   "execution_count": 97,
   "metadata": {},
   "outputs": [
    {
     "data": {
      "text/plain": [
       "(28, 28, 1)"
      ]
     },
     "execution_count": 97,
     "metadata": {},
     "output_type": "execute_result"
    }
   ],
   "source": [
    "x_train[123].shape"
   ]
  },
  {
   "cell_type": "code",
   "execution_count": 11,
   "metadata": {},
   "outputs": [
    {
     "data": {
      "image/png": "[encoded data removed]",
      "text/plain": [
       "<Figure size 432x288 with 1 Axes>"
      ]
     },
     "metadata": {},
     "output_type": "display_data"
    }
   ],
   "source": [
    "X = x_train[123].reshape(28,28)\n",
    "plt.imshow(X, cmap='Greys');"
   ]
  },
  {
   "cell_type": "markdown",
   "metadata": {},
   "source": [
    "## 1-hot encoding"
   ]
  },
  {
   "cell_type": "code",
   "execution_count": 12,
   "metadata": {},
   "outputs": [],
   "source": [
    "from keras.utils import np_utils"
   ]
  },
  {
   "cell_type": "code",
   "execution_count": 98,
   "metadata": {},
   "outputs": [],
   "source": [
    "y_train = np_utils.to_categorical(y_train,10)\n",
    "y_test = np_utils.to_categorical(y_test,10)"
   ]
  },
  {
   "cell_type": "markdown",
   "metadata": {},
   "source": [
    "## Build a CNN"
   ]
  },
  {
   "cell_type": "markdown",
   "metadata": {},
   "source": [
    "### Required functions"
   ]
  },
  {
   "cell_type": "code",
   "execution_count": 19,
   "metadata": {},
   "outputs": [],
   "source": [
    "from keras.models import Model\n",
    "from keras.layers import Input, Dense, Activation, Flatten, concatenate\n",
    "from keras.layers import Conv2D, MaxPool2D\n",
    "from keras.optimizers import SGD, Adadelta"
   ]
  },
  {
   "cell_type": "markdown",
   "metadata": {},
   "source": [
    "The structure of our artificial CNN networks.\n",
    "\n",
    "![](image/CNN_structure.PNG)\n",
    "\n",
    "- $W_{4\\times4}$ denotes a 4 by 4 filter matrix\n",
    "- $P_{2\\times2}$ denotes a 2 by 2 Max pooling matrix"
   ]
  },
  {
   "cell_type": "markdown",
   "metadata": {},
   "source": [
    "### Define the hidden layers"
   ]
  },
  {
   "cell_type": "code",
   "execution_count": 136,
   "metadata": {},
   "outputs": [],
   "source": [
    "f1 = Conv2D(4,(4,4), padding = 'same', activation = 'selu') # Number of filters: 4\n",
    "pool1 = MaxPool2D(pool_size = (2, 2))\n",
    "\n",
    "f2 = Conv2D(8,(4,4), padding = 'same', activation = 'selu') # Number of filters: 8\n",
    "pool2 = MaxPool2D(pool_size = (2, 2))\n",
    "\n",
    "f3 = Conv2D(16,(4,4), padding = 'same', activation = 'selu') # Number of filters: 16\n",
    "pool3 = MaxPool2D(pool_size = (2, 2))\n",
    "\n",
    "f4 = Dense(50, activation='relu')  \n",
    "f5 = Dense(20, activation='selu')     #   50 to 20\n",
    "f6 = Dense(20, activation='linear')   #   50 to 20\n",
    "f7 = Dense(10, activation='softmax')  #   40 to 10"
   ]
  },
  {
   "cell_type": "markdown",
   "metadata": {},
   "source": [
    "### Define the variables"
   ]
  },
  {
   "cell_type": "code",
   "execution_count": 137,
   "metadata": {},
   "outputs": [],
   "source": [
    "x = Input(shape = (28, 28, 1))\n",
    "h1 = pool1(f1(x))\n",
    "h2 = pool2(f2(h1))\n",
    "h3 = pool3(f3(h2))\n",
    "h4 = Flatten() (f4(h3))\n",
    "h5 = f5(h4)\n",
    "h6 = f6(h4)"
   ]
  },
  {
   "cell_type": "code",
   "execution_count": 138,
   "metadata": {},
   "outputs": [],
   "source": [
    "u = concatenate([h5,h6]) \n",
    "y = f7(u)"
   ]
  },
  {
   "cell_type": "code",
   "execution_count": 139,
   "metadata": {},
   "outputs": [],
   "source": [
    "model = Model(x,y)"
   ]
  },
  {
   "cell_type": "code",
   "execution_count": 140,
   "metadata": {},
   "outputs": [
    {
     "name": "stdout",
     "output_type": "stream",
     "text": [
      "__________________________________________________________________________________________________\n",
      "Layer (type)                    Output Shape         Param #     Connected to                     \n",
      "==================================================================================================\n",
      "input_16 (InputLayer)           (None, 28, 28, 1)    0                                            \n",
      "__________________________________________________________________________________________________\n",
      "conv2d_45 (Conv2D)              (None, 28, 28, 4)    68          input_16[0][0]                   \n",
      "__________________________________________________________________________________________________\n",
      "max_pooling2d_45 (MaxPooling2D) (None, 14, 14, 4)    0           conv2d_45[0][0]                  \n",
      "__________________________________________________________________________________________________\n",
      "conv2d_46 (Conv2D)              (None, 14, 14, 8)    520         max_pooling2d_45[0][0]           \n",
      "__________________________________________________________________________________________________\n",
      "max_pooling2d_46 (MaxPooling2D) (None, 7, 7, 8)      0           conv2d_46[0][0]                  \n",
      "__________________________________________________________________________________________________\n",
      "conv2d_47 (Conv2D)              (None, 7, 7, 16)     2064        max_pooling2d_46[0][0]           \n",
      "__________________________________________________________________________________________________\n",
      "max_pooling2d_47 (MaxPooling2D) (None, 3, 3, 16)     0           conv2d_47[0][0]                  \n",
      "__________________________________________________________________________________________________\n",
      "dense_61 (Dense)                (None, 3, 3, 50)     850         max_pooling2d_47[0][0]           \n",
      "__________________________________________________________________________________________________\n",
      "flatten_16 (Flatten)            (None, 450)          0           dense_61[0][0]                   \n",
      "__________________________________________________________________________________________________\n",
      "dense_62 (Dense)                (None, 20)           9020        flatten_16[0][0]                 \n",
      "__________________________________________________________________________________________________\n",
      "dense_63 (Dense)                (None, 20)           9020        flatten_16[0][0]                 \n",
      "__________________________________________________________________________________________________\n",
      "concatenate_17 (Concatenate)    (None, 40)           0           dense_62[0][0]                   \n",
      "                                                                 dense_63[0][0]                   \n",
      "__________________________________________________________________________________________________\n",
      "dense_64 (Dense)                (None, 10)           410         concatenate_17[0][0]             \n",
      "==================================================================================================\n",
      "Total params: 21,952\n",
      "Trainable params: 21,952\n",
      "Non-trainable params: 0\n",
      "__________________________________________________________________________________________________\n"
     ]
    }
   ],
   "source": [
    "model.summary()"
   ]
  },
  {
   "cell_type": "code",
   "execution_count": 141,
   "metadata": {},
   "outputs": [],
   "source": [
    "model.compile(loss = 'mse', optimizer = Adadelta(lr = 0.9), metrics=['accuracy'])"
   ]
  },
  {
   "cell_type": "markdown",
   "metadata": {},
   "source": [
    "### Training CNN"
   ]
  },
  {
   "cell_type": "code",
   "execution_count": 142,
   "metadata": {},
   "outputs": [
    {
     "name": "stdout",
     "output_type": "stream",
     "text": [
      "Epoch 1/10\n",
      "60000/60000 [==============================] - 11s 180us/step - loss: 0.0290 - acc: 0.7830\n",
      "Epoch 2/10\n",
      "60000/60000 [==============================] - 10s 165us/step - loss: 0.0071 - acc: 0.9545\n",
      "Epoch 3/10\n",
      "60000/60000 [==============================] - 10s 166us/step - loss: 0.0053 - acc: 0.9656\n",
      "Epoch 4/10\n",
      "60000/60000 [==============================] - 10s 167us/step - loss: 0.0044 - acc: 0.9712\n",
      "Epoch 5/10\n",
      "60000/60000 [==============================] - 10s 167us/step - loss: 0.0037 - acc: 0.9763\n",
      "Epoch 6/10\n",
      "60000/60000 [==============================] - 10s 167us/step - loss: 0.0033 - acc: 0.9792\n",
      "Epoch 7/10\n",
      "60000/60000 [==============================] - 10s 167us/step - loss: 0.0030 - acc: 0.98112s - loss: 0.0030 - acc - E\n",
      "Epoch 8/10\n",
      "60000/60000 [==============================] - 10s 162us/step - loss: 0.0027 - acc: 0.9821\n",
      "Epoch 9/10\n",
      "60000/60000 [==============================] - 9s 157us/step - loss: 0.0025 - acc: 0.9848\n",
      "Epoch 10/10\n",
      "60000/60000 [==============================] - 9s 158us/step - loss: 0.0023 - acc: 0.9856\n"
     ]
    }
   ],
   "source": [
    "model_fitted = model.fit(x_train, y_train, batch_size = 100, epochs = 10)"
   ]
  },
  {
   "cell_type": "markdown",
   "metadata": {},
   "source": [
    "## Evaluate test data"
   ]
  },
  {
   "cell_type": "markdown",
   "metadata": {},
   "source": [
    "### Loss and Accuracy"
   ]
  },
  {
   "cell_type": "code",
   "execution_count": 147,
   "metadata": {},
   "outputs": [
    {
     "name": "stdout",
     "output_type": "stream",
     "text": [
      "10000/10000 [==============================] - 2s 171us/step\n",
      "Loss for test data: 0.002721\n",
      "Accuracy: 0.981400\n"
     ]
    }
   ],
   "source": [
    "score = model.evaluate(x_test, y_test)\n",
    "print('Loss for test data: %f'%(score[0]))\n",
    "print('Accuracy: %f'%(score[1]))"
   ]
  },
  {
   "cell_type": "markdown",
   "metadata": {},
   "source": [
    "### Training accuracy for each apoch"
   ]
  },
  {
   "cell_type": "code",
   "execution_count": 148,
   "metadata": {},
   "outputs": [
    {
     "data": {
      "image/png": "[encoded data removed]",
      "text/plain": [
       "<Figure size 432x288 with 1 Axes>"
      ]
     },
     "metadata": {},
     "output_type": "display_data"
    }
   ],
   "source": [
    "plt.plot(model_fitted.history[\"acc\"])\n",
    "plt.title(\"Model Training Accuracy\")\n",
    "plt.ylabel(\"accuracy\")\n",
    "plt.xlabel(\"epoch\")\n",
    "plt.show()"
   ]
  },
  {
   "cell_type": "markdown",
   "metadata": {},
   "source": []
  }
 ],
 "metadata": {
  "kernelspec": {
   "display_name": "Python 3",
   "language": "python",
   "name": "python3"
  },
  "language_info": {
   "codemirror_mode": {
    "name": "ipython",
    "version": 3
   },
   "file_extension": ".py",
   "mimetype": "text/x-python",
   "name": "python",
   "nbconvert_exporter": "python",
   "pygments_lexer": "ipython3",
   "version": "3.6.5"
  },
  "toc": {
   "base_numbering": 1,
   "nav_menu": {},
   "number_sections": true,
   "sideBar": true,
   "skip_h1_title": false,
   "title_cell": "Table of Contents",
   "title_sidebar": "Contents",
   "toc_cell": false,
   "toc_position": {},
   "toc_section_display": true,
   "toc_window_display": false
  },
  "varInspector": {
   "cols": {
    "lenName": 16,
    "lenType": 16,
    "lenVar": 40
   },
   "kernels_config": {
    "python": {
     "delete_cmd_postfix": "",
     "delete_cmd_prefix": "del ",
     "library": "var_list.py",
     "varRefreshCmd": "print(var_dic_list())"
    },
    "r": {
     "delete_cmd_postfix": ") ",
     "delete_cmd_prefix": "rm(",
     "library": "var_list.r",
     "varRefreshCmd": "cat(var_dic_list()) "
    }
   },
   "types_to_exclude": [
    "module",
    "function",
    "builtin_function_or_method",
    "instance",
    "_Feature"
   ],
   "window_display": false
  }
 },
 "nbformat": 4,
 "nbformat_minor": 2
}
